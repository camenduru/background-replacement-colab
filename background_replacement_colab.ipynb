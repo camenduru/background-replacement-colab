{
  "cells": [
    {
      "cell_type": "markdown",
      "metadata": {
        "id": "view-in-github"
      },
      "source": [
        "[![Open In Colab](https://colab.research.google.com/assets/colab-badge.svg)](https://colab.research.google.com/github/camenduru/background-replacement-colab/blob/main/background_replacement_colab.ipynb)"
      ]
    },
    {
      "cell_type": "code",
      "execution_count": null,
      "metadata": {
        "id": "VjYy0F2gZIPR"
      },
      "outputs": [],
      "source": [
        "%cd /content\n",
        "!git clone -b dev https://github.com/camenduru/background-replacement-hf\n",
        "%cd /content/background-replacement-hf\n",
        "!pip install -q -r requirements.txt\n",
        "\n",
        "!wget https://github.com/camenduru/background-replacement-hf/assets/54370274/aee10271-04e5-4ea8-94d7-9717e73dd4a2 -O /content/background-replacement-hf/examples/dj-making-music-on-mixer.jpg\n",
        "!wget https://github.com/camenduru/background-replacement-hf/assets/54370274/663da768-22b6-4ccb-bbd1-744ded312063 -O /content/background-replacement-hf/examples/jean-shorts-woman.jpg\n",
        "!wget https://github.com/camenduru/background-replacement-hf/assets/54370274/122b89e5-c1d2-46d9-aa90-56a41e916b19 -O /content/background-replacement-hf/examples/black-sneakers-with-white-sole.jpg\n",
        "!wget https://github.com/camenduru/background-replacement-hf/assets/54370274/d8c15c10-cef2-4a92-9d66-0fd34caf1213 -O /content/background-replacement-hf/examples/DIY-beard-balm.jpg\n",
        "\n",
        "!python app.py"
      ]
    }
  ],
  "metadata": {
    "accelerator": "GPU",
    "colab": {
      "gpuType": "T4",
      "provenance": []
    },
    "kernelspec": {
      "display_name": "Python 3",
      "name": "python3"
    },
    "language_info": {
      "name": "python"
    }
  },
  "nbformat": 4,
  "nbformat_minor": 0
}
